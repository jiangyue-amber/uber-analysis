{
 "cells": [
  {
   "cell_type": "markdown",
   "metadata": {},
   "source": [
    "# Scenario 1:"
   ]
  },
  {
   "cell_type": "markdown",
   "metadata": {},
   "source": [
    "It is going to be a huge Saturday and there will need to be many more cars on the road than last week. In order to get drivers to go online, we're assessing the following two bonus options in terms of cost:\n",
    "\n",
    "Option 1: $50 for each driver that is online at least 8 hours, accepts 90% of requests, completes 10 trips, and has a rating of 4.7 or better during the time frame；\n",
    "\n",
    "Option 2: $4/trip for all drivers who complete 12 trips, and have a 4.7 or better rating."
   ]
  },
  {
   "cell_type": "markdown",
   "metadata": {},
   "source": [
    "First import pandas library and read the data"
   ]
  },
  {
   "cell_type": "code",
   "execution_count": 4,
   "metadata": {},
   "outputs": [
    {
     "data": {
      "text/html": [
       "<div>\n",
       "<style scoped>\n",
       "    .dataframe tbody tr th:only-of-type {\n",
       "        vertical-align: middle;\n",
       "    }\n",
       "\n",
       "    .dataframe tbody tr th {\n",
       "        vertical-align: top;\n",
       "    }\n",
       "\n",
       "    .dataframe thead th {\n",
       "        text-align: right;\n",
       "    }\n",
       "</style>\n",
       "<table border=\"1\" class=\"dataframe\">\n",
       "  <thead>\n",
       "    <tr style=\"text-align: right;\">\n",
       "      <th></th>\n",
       "      <th>Name</th>\n",
       "      <th>Trips Completed</th>\n",
       "      <th>Accept Rate</th>\n",
       "      <th>Supply Hours</th>\n",
       "      <th>Rating</th>\n",
       "    </tr>\n",
       "  </thead>\n",
       "  <tbody>\n",
       "    <tr>\n",
       "      <th>0</th>\n",
       "      <td>Abdul</td>\n",
       "      <td>1</td>\n",
       "      <td>100%</td>\n",
       "      <td>3</td>\n",
       "      <td>4.8</td>\n",
       "    </tr>\n",
       "    <tr>\n",
       "      <th>1</th>\n",
       "      <td>Abraham</td>\n",
       "      <td>12</td>\n",
       "      <td>83%</td>\n",
       "      <td>5</td>\n",
       "      <td>4.7</td>\n",
       "    </tr>\n",
       "    <tr>\n",
       "      <th>2</th>\n",
       "      <td>Adelina</td>\n",
       "      <td>1</td>\n",
       "      <td>100%</td>\n",
       "      <td>2</td>\n",
       "      <td>4.7</td>\n",
       "    </tr>\n",
       "    <tr>\n",
       "      <th>3</th>\n",
       "      <td>Akilah</td>\n",
       "      <td>1</td>\n",
       "      <td>100%</td>\n",
       "      <td>2</td>\n",
       "      <td>4.9</td>\n",
       "    </tr>\n",
       "    <tr>\n",
       "      <th>4</th>\n",
       "      <td>Alec</td>\n",
       "      <td>21</td>\n",
       "      <td>76%</td>\n",
       "      <td>11</td>\n",
       "      <td>5.0</td>\n",
       "    </tr>\n",
       "  </tbody>\n",
       "</table>\n",
       "</div>"
      ],
      "text/plain": [
       "      Name  Trips Completed Accept Rate  Supply Hours  Rating\n",
       "0    Abdul                1        100%             3     4.8\n",
       "1  Abraham               12         83%             5     4.7\n",
       "2  Adelina                1        100%             2     4.7\n",
       "3   Akilah                1        100%             2     4.9\n",
       "4     Alec               21         76%            11     5.0"
      ]
     },
     "execution_count": 4,
     "metadata": {},
     "output_type": "execute_result"
    }
   ],
   "source": [
    "import pandas as pd\n",
    "\n",
    "df = pd.read_csv('dataset_2.csv')\n",
    "df.head()"
   ]
  },
  {
   "cell_type": "markdown",
   "metadata": {},
   "source": [
    "Check each column's data type "
   ]
  },
  {
   "cell_type": "code",
   "execution_count": 6,
   "metadata": {},
   "outputs": [
    {
     "name": "stdout",
     "output_type": "stream",
     "text": [
      "<class 'pandas.core.frame.DataFrame'>\n",
      "RangeIndex: 119 entries, 0 to 118\n",
      "Data columns (total 5 columns):\n",
      " #   Column           Non-Null Count  Dtype  \n",
      "---  ------           --------------  -----  \n",
      " 0   Name             119 non-null    object \n",
      " 1   Trips Completed  119 non-null    int64  \n",
      " 2   Accept Rate      119 non-null    object \n",
      " 3   Supply Hours     119 non-null    int64  \n",
      " 4   Rating           119 non-null    float64\n",
      "dtypes: float64(1), int64(2), object(2)\n",
      "memory usage: 4.8+ KB\n"
     ]
    }
   ],
   "source": [
    "df.info()"
   ]
  },
  {
   "cell_type": "markdown",
   "metadata": {},
   "source": [
    "Convert accept rate to float for the convenience of the following analysis"
   ]
  },
  {
   "cell_type": "code",
   "execution_count": 8,
   "metadata": {},
   "outputs": [
    {
     "data": {
      "text/html": [
       "<div>\n",
       "<style scoped>\n",
       "    .dataframe tbody tr th:only-of-type {\n",
       "        vertical-align: middle;\n",
       "    }\n",
       "\n",
       "    .dataframe tbody tr th {\n",
       "        vertical-align: top;\n",
       "    }\n",
       "\n",
       "    .dataframe thead th {\n",
       "        text-align: right;\n",
       "    }\n",
       "</style>\n",
       "<table border=\"1\" class=\"dataframe\">\n",
       "  <thead>\n",
       "    <tr style=\"text-align: right;\">\n",
       "      <th></th>\n",
       "      <th>Name</th>\n",
       "      <th>Trips Completed</th>\n",
       "      <th>Accept Rate</th>\n",
       "      <th>Supply Hours</th>\n",
       "      <th>Rating</th>\n",
       "    </tr>\n",
       "  </thead>\n",
       "  <tbody>\n",
       "    <tr>\n",
       "      <th>0</th>\n",
       "      <td>Abdul</td>\n",
       "      <td>1</td>\n",
       "      <td>100.0</td>\n",
       "      <td>3</td>\n",
       "      <td>4.8</td>\n",
       "    </tr>\n",
       "    <tr>\n",
       "      <th>1</th>\n",
       "      <td>Abraham</td>\n",
       "      <td>12</td>\n",
       "      <td>83.0</td>\n",
       "      <td>5</td>\n",
       "      <td>4.7</td>\n",
       "    </tr>\n",
       "    <tr>\n",
       "      <th>2</th>\n",
       "      <td>Adelina</td>\n",
       "      <td>1</td>\n",
       "      <td>100.0</td>\n",
       "      <td>2</td>\n",
       "      <td>4.7</td>\n",
       "    </tr>\n",
       "    <tr>\n",
       "      <th>3</th>\n",
       "      <td>Akilah</td>\n",
       "      <td>1</td>\n",
       "      <td>100.0</td>\n",
       "      <td>2</td>\n",
       "      <td>4.9</td>\n",
       "    </tr>\n",
       "    <tr>\n",
       "      <th>4</th>\n",
       "      <td>Alec</td>\n",
       "      <td>21</td>\n",
       "      <td>76.0</td>\n",
       "      <td>11</td>\n",
       "      <td>5.0</td>\n",
       "    </tr>\n",
       "  </tbody>\n",
       "</table>\n",
       "</div>"
      ],
      "text/plain": [
       "      Name  Trips Completed  Accept Rate  Supply Hours  Rating\n",
       "0    Abdul                1        100.0             3     4.8\n",
       "1  Abraham               12         83.0             5     4.7\n",
       "2  Adelina                1        100.0             2     4.7\n",
       "3   Akilah                1        100.0             2     4.9\n",
       "4     Alec               21         76.0            11     5.0"
      ]
     },
     "execution_count": 8,
     "metadata": {},
     "output_type": "execute_result"
    }
   ],
   "source": [
    "df['Accept Rate'] = df['Accept Rate'].apply(lambda x: float(x[:-1]))\n",
    "df.head()"
   ]
  },
  {
   "cell_type": "code",
   "execution_count": 20,
   "metadata": {},
   "outputs": [],
   "source": [
    "import math\n",
    "import numpy as np\n",
    "import matplotlib.pyplot as plt"
   ]
  },
  {
   "cell_type": "code",
   "execution_count": 22,
   "metadata": {},
   "outputs": [
    {
     "data": {
      "image/png": "[encoded data removed]",
      "text/plain": [
       "<Figure size 640x480 with 1 Axes>"
      ]
     },
     "metadata": {},
     "output_type": "display_data"
    }
   ],
   "source": [
    "counts, edges, patches = plt.hist(df[\"Accept Rate\"], bins = np.arange(0, 110, 10), color='gold', edgecolor='black')\n",
    "plt.ylabel(\"Count\")\n",
    "plt.xlabel(\"Acceptance Rate\")\n",
    "plt.xticks(np.arange(0, 101, step = 10))\n",
    "plt.title(\"Acceptance Rate Count\")\n",
    "\n",
    "for count, edge in zip(counts, edges[:-1]):  # edges[:-1] gives the left bin edges\n",
    "    plt.text(edge + 5, count + 0.5, str(int(count)), ha='center', fontsize=10, fontweight='bold')\n",
    "\n",
    "plt.savefig(\"my_plot.png\", dpi=300)"
   ]
  },
  {
   "cell_type": "code",
   "execution_count": 24,
   "metadata": {},
   "outputs": [
    {
     "data": {
      "text/plain": [
       "<Figure size 500x200 with 0 Axes>"
      ]
     },
     "execution_count": 24,
     "metadata": {},
     "output_type": "execute_result"
    },
    {
     "data": {
      "image/png": "[encoded data removed]",
      "text/plain": [
       "<Figure size 640x480 with 1 Axes>"
      ]
     },
     "metadata": {},
     "output_type": "display_data"
    },
    {
     "data": {
      "text/plain": [
       "<Figure size 500x200 with 0 Axes>"
      ]
     },
     "metadata": {},
     "output_type": "display_data"
    }
   ],
   "source": [
    "counts, edges, patches = plt.hist(df[\"Trips Completed\"], bins=np.arange(0, 32), color='skyblue', edgecolor='black')\n",
    "plt.ylabel(\"Count\")\n",
    "plt.xlabel(\"Trip Completed\")\n",
    "plt.title(\"Driver's Total Trips Completed\")\n",
    "plt.xlim([0,32])\n",
    "for count, edge in zip(counts, edges[:-1]):  # edges[:-1] gives the left bin edges\n",
    "    plt.text(edge + 0.5 , count+0.25, str(int(count)), ha='center', fontsize=10, fontweight='bold')\n",
    "plt.savefig(\"driver.png\", dpi=300)\n",
    "plt.figure(figsize=(5, 2))"
   ]
  },
  {
   "cell_type": "code",
   "execution_count": 26,
   "metadata": {},
   "outputs": [
    {
     "data": {
      "image/png": "[encoded data removed]",
      "text/plain": [
       "<Figure size 640x480 with 1 Axes>"
      ]
     },
     "metadata": {},
     "output_type": "display_data"
    }
   ],
   "source": [
    "counts, edges, patches = plt.hist(df[\"Rating\"], bins=np.arange(1, 5.25, 0.25), color= '#A52A2A', edgecolor='black')\n",
    "plt.ylabel(\"Count\")\n",
    "plt.xlabel(\"Driver's Rating\")\n",
    "plt.xticks(np.arange(1, 5.25, step = 0.5))\n",
    "for count, edge in zip(counts, edges[:-1]):  # edges[:-1] gives the left bin edges\n",
    "    plt.text(edge + 0.125, count+0.5, str(int(count)), ha='center', fontsize=10, fontweight='bold')\n",
    "plt.title(\"Driver's Rating Total\")\n",
    "plt.savefig(\"driver_rating.png\", dpi=300)"
   ]
  },
  {
   "cell_type": "code",
   "execution_count": 28,
   "metadata": {},
   "outputs": [
    {
     "data": {
      "text/plain": [
       "<Figure size 500x200 with 0 Axes>"
      ]
     },
     "execution_count": 28,
     "metadata": {},
     "output_type": "execute_result"
    },
    {
     "data": {
      "image/png": "[encoded data removed]",
      "text/plain": [
       "<Figure size 640x480 with 1 Axes>"
      ]
     },
     "metadata": {},
     "output_type": "display_data"
    },
    {
     "data": {
      "text/plain": [
       "<Figure size 500x200 with 0 Axes>"
      ]
     },
     "metadata": {},
     "output_type": "display_data"
    }
   ],
   "source": [
    "counts, edges, patches = plt.hist(df[\"Rating\"], bins=np.arange(4, 5.01, 0.10), color= '#A52A2A', edgecolor='black')\n",
    "plt.ylabel(\"Count\")\n",
    "plt.xlabel(\"Driver's Rating\")\n",
    "plt.xticks(np.arange(4, 5.05, step = 0.10))\n",
    "plt.title(\"Driver's Rating Total\")\n",
    "for count, edge in zip(counts, edges[:-1]):  # edges[:-1] gives the left bin edges\n",
    "    plt.text(edge + 0.05, count+0.25, str(int(count)), ha='center', fontsize=10, fontweight='bold')\n",
    "plt.savefig(\"driver_rating_2.png\", dpi=300)\n",
    "plt.figure(figsize=(5, 2))"
   ]
  },
  {
   "cell_type": "markdown",
   "metadata": {},
   "source": [
    "#### Q1: How much would the total bonus payout be with Option 1?"
   ]
  },
  {
   "cell_type": "markdown",
   "metadata": {},
   "source": [
    "Apply four conditions on df and filter out the drivers who satisfy the requirements"
   ]
  },
  {
   "cell_type": "code",
   "execution_count": 95,
   "metadata": {},
   "outputs": [
    {
     "data": {
      "text/html": [
       "<div>\n",
       "<style scoped>\n",
       "    .dataframe tbody tr th:only-of-type {\n",
       "        vertical-align: middle;\n",
       "    }\n",
       "\n",
       "    .dataframe tbody tr th {\n",
       "        vertical-align: top;\n",
       "    }\n",
       "\n",
       "    .dataframe thead th {\n",
       "        text-align: right;\n",
       "    }\n",
       "</style>\n",
       "<table border=\"1\" class=\"dataframe\">\n",
       "  <thead>\n",
       "    <tr style=\"text-align: right;\">\n",
       "      <th></th>\n",
       "      <th>Name</th>\n",
       "      <th>Trips Completed</th>\n",
       "      <th>Accept Rate</th>\n",
       "      <th>Supply Hours</th>\n",
       "      <th>Rating</th>\n",
       "    </tr>\n",
       "  </thead>\n",
       "  <tbody>\n",
       "    <tr>\n",
       "      <th>11</th>\n",
       "      <td>Byron</td>\n",
       "      <td>15</td>\n",
       "      <td>100.0</td>\n",
       "      <td>10</td>\n",
       "      <td>4.9</td>\n",
       "    </tr>\n",
       "    <tr>\n",
       "      <th>12</th>\n",
       "      <td>Carlota</td>\n",
       "      <td>14</td>\n",
       "      <td>100.0</td>\n",
       "      <td>8</td>\n",
       "      <td>5.0</td>\n",
       "    </tr>\n",
       "    <tr>\n",
       "      <th>19</th>\n",
       "      <td>Dannette</td>\n",
       "      <td>14</td>\n",
       "      <td>100.0</td>\n",
       "      <td>9</td>\n",
       "      <td>4.9</td>\n",
       "    </tr>\n",
       "    <tr>\n",
       "      <th>23</th>\n",
       "      <td>Demetrius</td>\n",
       "      <td>14</td>\n",
       "      <td>100.0</td>\n",
       "      <td>9</td>\n",
       "      <td>5.0</td>\n",
       "    </tr>\n",
       "    <tr>\n",
       "      <th>26</th>\n",
       "      <td>Dimple</td>\n",
       "      <td>15</td>\n",
       "      <td>100.0</td>\n",
       "      <td>10</td>\n",
       "      <td>4.9</td>\n",
       "    </tr>\n",
       "  </tbody>\n",
       "</table>\n",
       "</div>"
      ],
      "text/plain": [
       "         Name  Trips Completed  Accept Rate  Supply Hours  Rating\n",
       "11      Byron               15        100.0            10     4.9\n",
       "12    Carlota               14        100.0             8     5.0\n",
       "19   Dannette               14        100.0             9     4.9\n",
       "23  Demetrius               14        100.0             9     5.0\n",
       "26     Dimple               15        100.0            10     4.9"
      ]
     },
     "execution_count": 95,
     "metadata": {},
     "output_type": "execute_result"
    }
   ],
   "source": [
    "option_one = df[(df['Supply Hours'] >= 8) & (df['Trips Completed'] >= 10) & (df['Accept Rate'] >= 90) & (df['Rating'] >= 4.7)]\n",
    "option_one.head()\n"
   ]
  },
  {
   "cell_type": "markdown",
   "metadata": {},
   "source": [
    "Total payoff equals to the number of drivers times $50"
   ]
  },
  {
   "cell_type": "code",
   "execution_count": 96,
   "metadata": {},
   "outputs": [
    {
     "data": {
      "text/plain": [
       "'Option 1 costs $1050 bonus payoff'"
      ]
     },
     "execution_count": 96,
     "metadata": {},
     "output_type": "execute_result"
    }
   ],
   "source": [
    "f'Option 1 costs ${50 * len(option_one)} bonus payoff'"
   ]
  },
  {
   "cell_type": "markdown",
   "metadata": {},
   "source": [
    "#### Q2: How much would the total bonus payout be with Option 2?"
   ]
  },
  {
   "cell_type": "markdown",
   "metadata": {},
   "source": [
    "Apply two conditions on df and filter out the drivers who satisfy the requirements"
   ]
  },
  {
   "cell_type": "code",
   "execution_count": 97,
   "metadata": {},
   "outputs": [
    {
     "data": {
      "text/html": [
       "<div>\n",
       "<style scoped>\n",
       "    .dataframe tbody tr th:only-of-type {\n",
       "        vertical-align: middle;\n",
       "    }\n",
       "\n",
       "    .dataframe tbody tr th {\n",
       "        vertical-align: top;\n",
       "    }\n",
       "\n",
       "    .dataframe thead th {\n",
       "        text-align: right;\n",
       "    }\n",
       "</style>\n",
       "<table border=\"1\" class=\"dataframe\">\n",
       "  <thead>\n",
       "    <tr style=\"text-align: right;\">\n",
       "      <th></th>\n",
       "      <th>Name</th>\n",
       "      <th>Trips Completed</th>\n",
       "      <th>Accept Rate</th>\n",
       "      <th>Supply Hours</th>\n",
       "      <th>Rating</th>\n",
       "    </tr>\n",
       "  </thead>\n",
       "  <tbody>\n",
       "    <tr>\n",
       "      <th>1</th>\n",
       "      <td>Abraham</td>\n",
       "      <td>12</td>\n",
       "      <td>83.0</td>\n",
       "      <td>5</td>\n",
       "      <td>4.7</td>\n",
       "    </tr>\n",
       "    <tr>\n",
       "      <th>4</th>\n",
       "      <td>Alec</td>\n",
       "      <td>21</td>\n",
       "      <td>76.0</td>\n",
       "      <td>11</td>\n",
       "      <td>5.0</td>\n",
       "    </tr>\n",
       "    <tr>\n",
       "      <th>8</th>\n",
       "      <td>Augusta</td>\n",
       "      <td>19</td>\n",
       "      <td>84.0</td>\n",
       "      <td>11</td>\n",
       "      <td>4.7</td>\n",
       "    </tr>\n",
       "    <tr>\n",
       "      <th>10</th>\n",
       "      <td>Buffy</td>\n",
       "      <td>13</td>\n",
       "      <td>54.0</td>\n",
       "      <td>6</td>\n",
       "      <td>5.0</td>\n",
       "    </tr>\n",
       "    <tr>\n",
       "      <th>11</th>\n",
       "      <td>Byron</td>\n",
       "      <td>15</td>\n",
       "      <td>100.0</td>\n",
       "      <td>10</td>\n",
       "      <td>4.9</td>\n",
       "    </tr>\n",
       "  </tbody>\n",
       "</table>\n",
       "</div>"
      ],
      "text/plain": [
       "       Name  Trips Completed  Accept Rate  Supply Hours  Rating\n",
       "1   Abraham               12         83.0             5     4.7\n",
       "4      Alec               21         76.0            11     5.0\n",
       "8   Augusta               19         84.0            11     4.7\n",
       "10    Buffy               13         54.0             6     5.0\n",
       "11    Byron               15        100.0            10     4.9"
      ]
     },
     "execution_count": 97,
     "metadata": {},
     "output_type": "execute_result"
    }
   ],
   "source": [
    "option_two = df[(df['Trips Completed'] >= 12) & (df['Rating'] >= 4.7)]\n",
    "option_two.head()"
   ]
  },
  {
   "cell_type": "markdown",
   "metadata": {},
   "source": [
    "Total payoff equals to above drivers' sum of trips times $4"
   ]
  },
  {
   "cell_type": "code",
   "execution_count": 98,
   "metadata": {},
   "outputs": [
    {
     "data": {
      "text/plain": [
       "'Option 2 costs $2976 bonus payoff'"
      ]
     },
     "execution_count": 98,
     "metadata": {},
     "output_type": "execute_result"
    }
   ],
   "source": [
    "payoff_two = 4 * option_two['Trips Completed'].sum()\n",
    "f'Option 2 costs ${payoff_two} bonus payoff'"
   ]
  },
  {
   "cell_type": "markdown",
   "metadata": {},
   "source": [
    "#### Q3: How many drivers would qualify for a bonus under Option 1 but not under Option 2?"
   ]
  },
  {
   "cell_type": "markdown",
   "metadata": {},
   "source": [
    "Both option 1 and option 2 requires drivers to have a 4.7 or better rating, while options 2 needs drivers to completes 12 trips. Therefor, the drivers who qualify for a bonus under  option 1 but not option 2 are those who (1) are online at least 8 hours, (2) accept 90% of requests, and (3) complete 10 or 11 trips."
   ]
  },
  {
   "cell_type": "code",
   "execution_count": 99,
   "metadata": {},
   "outputs": [
    {
     "data": {
      "text/html": [
       "<div>\n",
       "<style scoped>\n",
       "    .dataframe tbody tr th:only-of-type {\n",
       "        vertical-align: middle;\n",
       "    }\n",
       "\n",
       "    .dataframe tbody tr th {\n",
       "        vertical-align: top;\n",
       "    }\n",
       "\n",
       "    .dataframe thead th {\n",
       "        text-align: right;\n",
       "    }\n",
       "</style>\n",
       "<table border=\"1\" class=\"dataframe\">\n",
       "  <thead>\n",
       "    <tr style=\"text-align: right;\">\n",
       "      <th></th>\n",
       "      <th>Name</th>\n",
       "      <th>Trips Completed</th>\n",
       "      <th>Accept Rate</th>\n",
       "      <th>Supply Hours</th>\n",
       "      <th>Rating</th>\n",
       "    </tr>\n",
       "  </thead>\n",
       "  <tbody>\n",
       "    <tr>\n",
       "      <th>88</th>\n",
       "      <td>Oren</td>\n",
       "      <td>11</td>\n",
       "      <td>91.0</td>\n",
       "      <td>9</td>\n",
       "      <td>4.8</td>\n",
       "    </tr>\n",
       "    <tr>\n",
       "      <th>92</th>\n",
       "      <td>Phyllis</td>\n",
       "      <td>10</td>\n",
       "      <td>90.0</td>\n",
       "      <td>8</td>\n",
       "      <td>4.8</td>\n",
       "    </tr>\n",
       "  </tbody>\n",
       "</table>\n",
       "</div>"
      ],
      "text/plain": [
       "       Name  Trips Completed  Accept Rate  Supply Hours  Rating\n",
       "88     Oren               11         91.0             9     4.8\n",
       "92  Phyllis               10         90.0             8     4.8"
      ]
     },
     "execution_count": 99,
     "metadata": {},
     "output_type": "execute_result"
    }
   ],
   "source": [
    "one_but_not_two = df[(df['Supply Hours'] >= 8) & (df['Trips Completed'].isin((10,11))) & (df['Accept Rate'] >= 90) & (df['Rating'] >= 4.7)]\n",
    "one_but_not_two.head()"
   ]
  },
  {
   "cell_type": "code",
   "execution_count": 100,
   "metadata": {},
   "outputs": [
    {
     "data": {
      "text/plain": [
       "'There are 2 drivers who qualify for a bonus under option 1 but not under option 2'"
      ]
     },
     "execution_count": 100,
     "metadata": {},
     "output_type": "execute_result"
    }
   ],
   "source": [
    "f'There are {len(one_but_not_two)} drivers who qualify for a bonus under option 1 but not under option 2'"
   ]
  },
  {
   "cell_type": "markdown",
   "metadata": {},
   "source": [
    "#### Q4: What percentages of drivers online completed less than 10 trips, had an acceptance rate of less than 90%, and had a rating of 4.7 or higher?"
   ]
  },
  {
   "cell_type": "markdown",
   "metadata": {},
   "source": [
    "Apply there three conditions on df"
   ]
  },
  {
   "cell_type": "code",
   "execution_count": 101,
   "metadata": {},
   "outputs": [],
   "source": [
    "less_active = df[(df['Trips Completed'] < 10) & (df['Accept Rate'] < 90) & (df['Rating'] >= 4.7)]"
   ]
  },
  {
   "cell_type": "code",
   "execution_count": 102,
   "metadata": {},
   "outputs": [
    {
     "data": {
      "text/plain": [
       "'10.92436974789916% of drivers online completed less than 10 trips, had an acceptance rate of less than 90%, and had a rating of 4.7 or higher'"
      ]
     },
     "execution_count": 102,
     "metadata": {},
     "output_type": "execute_result"
    }
   ],
   "source": [
    "f'{len(less_active) / len(df) * 100}% of drivers online completed less than 10 trips, had an acceptance rate of less than 90%, and had a rating of 4.7 or higher'"
   ]
  },
  {
   "cell_type": "markdown",
   "metadata": {},
   "source": [
    "# Scenario 2:"
   ]
  },
  {
   "cell_type": "markdown",
   "metadata": {},
   "source": [
    "A taxi driver currently generates $200 per day in fares (before expenses), works six days a week, takes three weeks off, and has the following expenses:\n",
    "\n",
    "Gas - $200 per week\n",
    "\n",
    "Insurance - $400 per month\n",
    "\n",
    "Vehicle rent (by the week) - $500\n",
    "\n",
    "The driver doesn't pay gas and rent expenses on off weeks. Now, let's assume that the same driver would buy a Town Car and partner with Uber. If he does, his gas expenses would go up by 5%, his insurance expense would decrease by 20%, and he would no longer be renting a vehicle. However, he would need to buy a car. The driver would still take three weeks off per year."
   ]
  },
  {
   "cell_type": "markdown",
   "metadata": {},
   "source": [
    "#### Q5: How much money (after expenses) does the taxi driver make per year without partnering with Uber?"
   ]
  },
  {
   "cell_type": "code",
   "execution_count": 103,
   "metadata": {},
   "outputs": [
    {
     "data": {
      "text/plain": [
       "'Income is $58800'"
      ]
     },
     "execution_count": 103,
     "metadata": {},
     "output_type": "execute_result"
    }
   ],
   "source": [
    "income = 200 * (52 - 3) * 6\n",
    "f'Income is ${income}'"
   ]
  },
  {
   "cell_type": "code",
   "execution_count": 104,
   "metadata": {},
   "outputs": [
    {
     "data": {
      "text/plain": [
       "'Expense is $39100'"
      ]
     },
     "execution_count": 104,
     "metadata": {},
     "output_type": "execute_result"
    }
   ],
   "source": [
    "expense = (200 + 500) * (52 - 3) + 400 * 12\n",
    "f'Expense is ${expense}'"
   ]
  },
  {
   "cell_type": "code",
   "execution_count": 105,
   "metadata": {},
   "outputs": [
    {
     "data": {
      "text/plain": [
       "'The taxi driver makes $19700 per year without partnering with Uber'"
      ]
     },
     "execution_count": 105,
     "metadata": {},
     "output_type": "execute_result"
    }
   ],
   "source": [
    "profit = income - expense\n",
    "f'The taxi driver makes ${profit} per year without partnering with Uber'"
   ]
  },
  {
   "cell_type": "markdown",
   "metadata": {},
   "source": [
    "#### Q6: You are convincing the same driver above to buy a Town Car and partner with Uber. Assuming the new car is 40,000 USD, how much would the driver's gross fares need to increase per week to fully pay for the car in year 1 and maintain the same yearly profit margin as before?"
   ]
  },
  {
   "cell_type": "markdown",
   "metadata": {},
   "source": [
    "The income remains the same, so we can first recalculate the expense"
   ]
  },
  {
   "cell_type": "code",
   "execution_count": 106,
   "metadata": {},
   "outputs": [
    {
     "data": {
      "text/plain": [
       "'New expense is $54130.0'"
      ]
     },
     "execution_count": 106,
     "metadata": {},
     "output_type": "execute_result"
    }
   ],
   "source": [
    "new_expense = 40000 + 200 * (52 - 3) * 1.05 + 400 * 12 * 0.8\n",
    "f'New expense is ${new_expense}'"
   ]
  },
  {
   "cell_type": "markdown",
   "metadata": {},
   "source": [
    "The new expense is higher than old expense, so to maintain the same yearly profit margin, the driver must increase income. The amount of increase in income equals to the amount of increase in expense."
   ]
  },
  {
   "cell_type": "code",
   "execution_count": 107,
   "metadata": {},
   "outputs": [
    {
     "data": {
      "text/plain": [
       "'The drive must make $15030.0 fares in year 1'"
      ]
     },
     "execution_count": 107,
     "metadata": {},
     "output_type": "execute_result"
    }
   ],
   "source": [
    "gap = new_expense - expense\n",
    "f'The drive must make ${gap} fares in year 1'"
   ]
  },
  {
   "cell_type": "markdown",
   "metadata": {},
   "source": [
    "Now divide this number by week"
   ]
  },
  {
   "cell_type": "code",
   "execution_count": 108,
   "metadata": {},
   "outputs": [
    {
     "data": {
      "text/plain": [
       "'The driver must increase gross fares by 306.734693877551 per week'"
      ]
     },
     "execution_count": 108,
     "metadata": {},
     "output_type": "execute_result"
    }
   ],
   "source": [
    "f'The driver must increase gross fares by ${gap/49} per week'"
   ]
  }
 ],
 "metadata": {
  "kernelspec": {
   "display_name": "Python 3 (ipykernel)",
   "language": "python",
   "name": "python3"
  },
  "language_info": {
   "codemirror_mode": {
    "name": "ipython",
    "version": 3
   },
   "file_extension": ".py",
   "mimetype": "text/x-python",
   "name": "python",
   "nbconvert_exporter": "python",
   "pygments_lexer": "ipython3",
   "version": "3.12.3"
  }
 },
 "nbformat": 4,
 "nbformat_minor": 4
}
